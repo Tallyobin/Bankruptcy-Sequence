{
  "nbformat": 4,
  "nbformat_minor": 0,
  "metadata": {
    "colab": {
      "provenance": [],
      "authorship_tag": "ABX9TyOfrh8Qk8kgVseikqAgs7lu",
      "include_colab_link": true
    },
    "kernelspec": {
      "name": "python3",
      "display_name": "Python 3"
    },
    "language_info": {
      "name": "python"
    }
  },
  "cells": [
    {
      "cell_type": "markdown",
      "metadata": {
        "id": "view-in-github",
        "colab_type": "text"
      },
      "source": [
        "<a href=\"https://colab.research.google.com/github/Tallyobin/Bankruptcy-Sequence/blob/main/Lab1.ipynb\" target=\"_parent\"><img src=\"https://colab.research.google.com/assets/colab-badge.svg\" alt=\"Open In Colab\"/></a>"
      ]
    },
    {
      "cell_type": "code",
      "execution_count": null,
      "metadata": {
        "id": "2ux509scWpir"
      },
      "outputs": [],
      "source": [
        "\n",
        "a1 = np.arange(10) # creates a range from 0 to 9\n",
        "print(a1) # [0 1 2 3 4 5 6 7 8 9]\n",
        "print(a1.shape) # (10,)\n",
        "\n",
        "a2 = np.arange(0,10,2) # creates a range from 0 to 9, step 2\n",
        "print(a2) # [0 2 4 6 8]\n",
        "\n",
        "a3 = np.zeros(5) # create an array with all 0s\n",
        "print(a3) # [ 0. 0. 0. 0. 0.]\n",
        "print(a3.shape) # (5,)\n",
        "\n",
        "a4 = np.zeros((2,3)) # array of rank 2 with all 0s; 2 rows and 3\n",
        "columns\n",
        "print(a4.shape) # (2,3)\n",
        "print(a4)\n",
        "\n",
        "a5 = np.full((2,3), 8) # array of rank 2 with all 8s\n",
        "print(a5)\n",
        "\n",
        "a6 = np.eye(10) # 10x10 identity matrix\n",
        "print(a6)\n",
        "\n",
        "a7 = np.random.random((2,4)) # rank 2 array (2 rows 4 columns) with\n",
        "random values\n",
        "# in the half-open interval [0.0, 1.0)\n",
        "print(a7)\n",
        "\n",
        "list1 = [1,2,3,4,5] # list1 is a list in Python\n",
        "r1 = np.array(list1) # rank 1 array\n",
        "print(r1) # [1 2 3 4 5]\n",
        "print(r1.shape)"
      ]
    }
  ]
}